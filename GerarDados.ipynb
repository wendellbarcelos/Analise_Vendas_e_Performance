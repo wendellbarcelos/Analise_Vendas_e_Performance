{
 "cells": [
  {
   "cell_type": "code",
   "execution_count": 101,
   "metadata": {},
   "outputs": [],
   "source": [
    "import pandas as pd\n",
    "import random\n",
    "from faker import Faker\n",
    "from datetime import datetime  # Certifique-se de incluir esta linha\n"
   ]
  },
  {
   "cell_type": "code",
   "execution_count": 102,
   "metadata": {},
   "outputs": [],
   "source": [
    "# Configuração inicial\n",
    "fake = Faker('pt_BR')  # Localização brasileira\n",
    "Faker.seed(42)\n",
    "random.seed(42)\n",
    "\n",
    "# Parâmetros\n",
    "num_rows = random.randint(1200, 2000)\n",
    "years = [2022, 2023, 2024]\n",
    "categories = ['Acessórios Informática', 'Tecnologia', 'Games', 'Eletro-Eletrônicos', 'Celulares', 'Eletro-Domésticos']\n",
    "regions = ['Norte', 'Nordeste', 'Centro-Oeste', 'Sudeste', 'Sul']\n",
    "channels = ['Online', 'Loja Física']"
   ]
  },
  {
   "cell_type": "code",
   "execution_count": 103,
   "metadata": {},
   "outputs": [],
   "source": [
    "# Categorias e produtos reais\n",
    "category_to_products = {\n",
    "    \"Acessórios Informática\": [\n",
    "        \"Teclado Mecânico\", \"Mouse Sem Fio\", \"Mouse Gamer\", \"Headset Gamer\", \"Hub USB\", \n",
    "        \"Cabo HDMI\", \"Cadeira Gamer\", \"Monitor Suporte\", \"Base para Notebook\", \"Adaptador USB\"\n",
    "    ],\n",
    "    \"Tecnologia\": [\n",
    "        \"Smartwatch\", \"Assistente Virtual\", \"Carregador Rápido\", \"Tablet\", \"HD Externo\", \n",
    "        \"SSD\", \"Power Bank\", \"Projetor Portátil\", \"Drone\", \"Echo Dot\"\n",
    "    ],\n",
    "    \"Games\": [\n",
    "        \"Console PS5\", \"Console Xbox Series X\", \"Joystick para PC\", \"Controle Xbox\", \n",
    "        \"Controle DualSense\", \"Headset para Xbox\", \"Volante para Simulação\", \n",
    "        \"Cadeira Gamer RGB\", \"Teclado para Consoles\", \"Dock para Switch\"\n",
    "    ],\n",
    "    \"Eletro-Eletrônicos\": [\n",
    "        \"TV 4K\", \"Home Theater\", \"Soundbar\", \"Receptor de TV\", \"Rádio Portátil\", \n",
    "        \"Caixa de Som Bluetooth\", \"Smart TV\", \"Controle Remoto Universal\", \n",
    "        \"Antena Digital\", \"Carregador Universal\"\n",
    "    ],\n",
    "    \"Celulares\": [\n",
    "        \"iPhone 14\", \"Samsung Galaxy S23\", \"Moto G Power\", \"Xiaomi Redmi Note 12\", \n",
    "        \"Realme Narzo\", \"OnePlus Nord\", \"Fone Bluetooth\", \"Carregador Wireless\", \n",
    "        \"Capa Protetora\", \"Película de Vidro\"\n",
    "    ],\n",
    "    \"Eletro-Domésticos\": [\n",
    "        \"Geladeira Frost Free\", \"Máquina de Lavar\", \"Forno Microondas\", \"Fogão 4 Bocas\", \n",
    "        \"Aspirador de Pó\", \"Liquidificador\", \"Airfryer\", \"Cafeteira\", \n",
    "        \"Ventilador\", \"Purificador de Água\"\n",
    "    ]\n",
    "}\n",
    "\n",
    "# Função para gerar lista de produtos como DataFrame\n",
    "def generate_product_list():\n",
    "    products = []\n",
    "    product_id = 1  # Para rastrear IDs únicos\n",
    "    for category, product_names in category_to_products.items():\n",
    "        for product_name in product_names:\n",
    "            products.append({\n",
    "                'ProdutoID': fake.uuid4(), #f\"P{product_id:03d}\",  # IDs formatados como P001, P002...\n",
    "                'Produto': product_name,\n",
    "                'Categoria': category,\n",
    "                'PrecoUnitario': round(random.uniform(50, 5000), 2),  # Preço unitário\n",
    "                'Custo': round(random.uniform(20, 3000), 2),  # Custo\n",
    "                'QtdEstoque': random.randint(0, 500)  # Estoque disponível\n",
    "            })\n",
    "            product_id += 1\n",
    "    # Converter para DataFrame\n",
    "    return pd.DataFrame(products)\n",
    "\n"
   ]
  },
  {
   "cell_type": "code",
   "execution_count": 104,
   "metadata": {},
   "outputs": [],
   "source": [
    "# Função para gerar dados de vendas\n",
    "def generate_sales_data():\n",
    "    sales = []\n",
    "    for _ in range(num_rows):\n",
    "        order_date = fake.date_between_dates(\n",
    "            date_start=datetime.strptime(f'{min(years)}-01-01', '%Y-%m-%d').date(),\n",
    "            date_end=datetime.strptime('2024-11-25', '%Y-%m-%d').date()\n",
    "        )\n",
    "        sales.append({\n",
    "            'OrdemID': fake.uuid4(),\n",
    "            'DataVenda': order_date,\n",
    "            'ClienteID': fake.uuid4(), #random.choice(product_ids),  # Relaciona com ProductID da tabela -- \n",
    "            'ProdutoID': fake.uuid4(),\n",
    "            'Regiao': random.choice(regions),\n",
    "            'Canal': random.choice(channels),\n",
    "            'Quantidade': random.randint(1, 10),\n",
    "            'Receita': round(random.uniform(50, 5000), 2),\n",
    "            'Disconto': round(random.uniform(0, 0.5), 2),\n",
    "            'Lucro': round(random.uniform(20, 2500), 2)\n",
    "        })\n",
    "    return pd.DataFrame(sales)\n"
   ]
  },
  {
   "cell_type": "code",
   "execution_count": 105,
   "metadata": {},
   "outputs": [],
   "source": [
    "# Dicionário de estados e cidades\n",
    "estados_e_cidades = {\n",
    "    \"Acre\": [\"Rio Branco\", \"Cruzeiro do Sul\"],\n",
    "    \"Amapá\": [\"Macapá\", \"Santana\"],\n",
    "    \"Amazonas\": [\"Manaus\", \"Parintins\"],\n",
    "    \"Pará\": [\"Belém\", \"Santarém\"],\n",
    "    \"Rondônia\": [\"Porto Velho\", \"Ji-Paraná\"],\n",
    "    \"Roraima\": [\"Boa Vista\", \"Rorainópolis\"],\n",
    "    \"Tocantins\": [\"Palmas\", \"Araguaína\"],\n",
    "    \"Alagoas\": [\"Maceió\", \"Arapiraca\"],\n",
    "    \"Bahia\": [\"Salvador\", \"Feira de Santana\"],\n",
    "    \"Ceará\": [\"Fortaleza\", \"Sobral\"],\n",
    "    \"Maranhão\": [\"São Luís\", \"Imperatriz\"],\n",
    "    \"Paraíba\": [\"João Pessoa\", \"Campina Grande\"],\n",
    "    \"Pernambuco\": [\"Recife\", \"Caruaru\"],\n",
    "    \"Piauí\": [\"Teresina\", \"Parnaíba\"],\n",
    "    \"Rio Grande do Norte\": [\"Natal\", \"Mossoró\"],\n",
    "    \"Sergipe\": [\"Aracaju\", \"Itabaiana\"],\n",
    "    \"Distrito Federal\": [\"Brasília\"],\n",
    "    \"Goiás\": [\"Goiânia\", \"Anápolis\"],\n",
    "    \"Mato Grosso\": [\"Cuiabá\", \"Rondonópolis\"],\n",
    "    \"Mato Grosso do Sul\": [\"Campo Grande\", \"Dourados\"],\n",
    "    \"Espírito Santo\": [\"Vitória\", \"Vila Velha\"],\n",
    "    \"Minas Gerais\": [\"Belo Horizonte\", \"Uberlândia\"],\n",
    "    \"Rio de Janeiro\": [\"Rio de Janeiro\", \"Niterói\"],\n",
    "    \"São Paulo\": [\"São Paulo\", \"Campinas\"],\n",
    "    \"Paraná\": [\"Curitiba\", \"Londrina\"],\n",
    "    \"Rio Grande do Sul\": [\"Porto Alegre\", \"Caxias do Sul\"],\n",
    "    \"Santa Catarina\": [\"Florianópolis\", \"Joinville\"]\n",
    "}\n",
    "\n",
    "# Função para gerar dados de clientes\n",
    "def generate_customer_data():\n",
    "    fake = Faker(['pt_BR'])\n",
    "    customers = []\n",
    "    for _ in range(500):  # Simular 500 clientes\n",
    "        estado = random.choice(list(estados_e_cidades.keys()))  # Seleciona um estado aleatoriamente\n",
    "        cidade = random.choice(estados_e_cidades[estado])  # Seleciona uma cidade do estado escolhido\n",
    "        customers.append({\n",
    "            'ClienteID': fake.uuid4(),\n",
    "            'Nome': fake.name(),\n",
    "            'Idade': random.randint(18, 70),\n",
    "            'Genero': random.choice(['M', 'F']),\n",
    "            'Segmento': random.choice(['Alta Frequência', 'Alta Receita', 'Recorrente']),\n",
    "            'Localizacao': f\"{cidade}, {estado}\"  # Combinação de cidade e estado\n",
    "        })\n",
    "    return pd.DataFrame(customers)\n"
   ]
  },
  {
   "cell_type": "code",
   "execution_count": 106,
   "metadata": {},
   "outputs": [],
   "source": [
    "# Função para gerar metas de vendas\n",
    "def generate_sales_targets():\n",
    "    targets = []\n",
    "    for region in regions:\n",
    "        for channel in channels:\n",
    "            for year in years:\n",
    "                for quarter in range(1, 5):\n",
    "                    targets.append({\n",
    "                        'Regiao': region,\n",
    "                        'Canal': channel,\n",
    "                        'Periodo': f'{year}-Q{quarter}',\n",
    "                        'MetaReceita': round(random.uniform(100000, 1000000), 2),\n",
    "                        'MetaLucro': round(random.uniform(50000, 500000), 2)\n",
    "                    })\n",
    "    return pd.DataFrame(targets)"
   ]
  },
  {
   "cell_type": "code",
   "execution_count": 107,
   "metadata": {},
   "outputs": [],
   "source": [
    "# Função para gerar dados de calendário\n",
    "def generate_calendar_data():\n",
    "    calendar = []\n",
    "    for year in years:\n",
    "        for month in range(1, 13):\n",
    "            for day in range(1, 29):  # Simples para evitar problemas com meses diferentes\n",
    "                date = f'{year}-{month:02d}-{day:02d}'\n",
    "                calendar.append({\n",
    "                    'Data': date,\n",
    "                    'Dia': fake.day_of_week(),\n",
    "                    'Mes': fake.month_name(),\n",
    "                    'Trimestre': (month - 1) // 3 + 1,\n",
    "                    'Ano': year\n",
    "                })\n",
    "    return pd.DataFrame(calendar)"
   ]
  },
  {
   "cell_type": "code",
   "execution_count": 108,
   "metadata": {},
   "outputs": [],
   "source": [
    "# Geração dos datasets\n",
    "sales_data = generate_sales_data()\n",
    "product_data = generate_product_list()\n",
    "customer_data = generate_customer_data()\n",
    "sales_targets = generate_sales_targets()\n",
    "calendar_data = generate_calendar_data()"
   ]
  },
  {
   "cell_type": "code",
   "execution_count": 109,
   "metadata": {},
   "outputs": [
    {
     "name": "stdout",
     "output_type": "stream",
     "text": [
      "Planilhas geradas com sucesso!\n"
     ]
    }
   ],
   "source": [
    "# Salvando os datasets em arquivos CSV\n",
    "sales_data.to_csv('vendas_data.csv', index=False)\n",
    "product_data.to_csv('produto_data.csv', index=False)\n",
    "customer_data.to_csv('cliente_data.csv', index=False)\n",
    "sales_targets.to_csv('vendas_meta.csv', index=False)\n",
    "calendar_data.to_csv('calendario_data.csv', index=False)\n",
    "\n",
    "print(\"Planilhas geradas com sucesso!\")\n"
   ]
  },
  {
   "cell_type": "code",
   "execution_count": null,
   "metadata": {},
   "outputs": [],
   "source": []
  }
 ],
 "metadata": {
  "kernelspec": {
   "display_name": "Python 3",
   "language": "python",
   "name": "python3"
  },
  "language_info": {
   "codemirror_mode": {
    "name": "ipython",
    "version": 3
   },
   "file_extension": ".py",
   "mimetype": "text/x-python",
   "name": "python",
   "nbconvert_exporter": "python",
   "pygments_lexer": "ipython3",
   "version": "3.12.5"
  }
 },
 "nbformat": 4,
 "nbformat_minor": 2
}
