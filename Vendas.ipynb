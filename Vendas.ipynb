{
 "cells": [
  {
   "cell_type": "code",
   "execution_count": 1,
   "metadata": {},
   "outputs": [],
   "source": [
    "# Importando as bibliotecas \n",
    "import pandas as pd\n",
    "import numpy as np\n",
    "import matplotlib.pyplot as plt"
   ]
  },
  {
   "cell_type": "code",
   "execution_count": 2,
   "metadata": {},
   "outputs": [
    {
     "data": {
      "text/html": [
       "<div>\n",
       "<style scoped>\n",
       "    .dataframe tbody tr th:only-of-type {\n",
       "        vertical-align: middle;\n",
       "    }\n",
       "\n",
       "    .dataframe tbody tr th {\n",
       "        vertical-align: top;\n",
       "    }\n",
       "\n",
       "    .dataframe thead th {\n",
       "        text-align: right;\n",
       "    }\n",
       "</style>\n",
       "<table border=\"1\" class=\"dataframe\">\n",
       "  <thead>\n",
       "    <tr style=\"text-align: right;\">\n",
       "      <th></th>\n",
       "      <th>VendaID</th>\n",
       "      <th>DataVenda</th>\n",
       "      <th>ProdutoID</th>\n",
       "      <th>ClienteID</th>\n",
       "      <th>Região</th>\n",
       "      <th>Canal</th>\n",
       "      <th>Quantidade</th>\n",
       "      <th>Receita</th>\n",
       "    </tr>\n",
       "  </thead>\n",
       "  <tbody>\n",
       "    <tr>\n",
       "      <th>0</th>\n",
       "      <td>V001</td>\n",
       "      <td>2024-04-07</td>\n",
       "      <td>P008</td>\n",
       "      <td>C013</td>\n",
       "      <td>São Paulo</td>\n",
       "      <td>Loja Física</td>\n",
       "      <td>4</td>\n",
       "      <td>1193.73</td>\n",
       "    </tr>\n",
       "    <tr>\n",
       "      <th>1</th>\n",
       "      <td>V002</td>\n",
       "      <td>2023-02-22</td>\n",
       "      <td>P048</td>\n",
       "      <td>C053</td>\n",
       "      <td>Minas Gerais</td>\n",
       "      <td>Online</td>\n",
       "      <td>10</td>\n",
       "      <td>2167.42</td>\n",
       "    </tr>\n",
       "    <tr>\n",
       "      <th>2</th>\n",
       "      <td>V003</td>\n",
       "      <td>2022-12-17</td>\n",
       "      <td>P002</td>\n",
       "      <td>C048</td>\n",
       "      <td>Tocantins</td>\n",
       "      <td>Online</td>\n",
       "      <td>9</td>\n",
       "      <td>3049.89</td>\n",
       "    </tr>\n",
       "    <tr>\n",
       "      <th>3</th>\n",
       "      <td>V004</td>\n",
       "      <td>2024-06-25</td>\n",
       "      <td>P036</td>\n",
       "      <td>C102</td>\n",
       "      <td>Rio de Janeiro</td>\n",
       "      <td>Loja Física</td>\n",
       "      <td>4</td>\n",
       "      <td>2301.12</td>\n",
       "    </tr>\n",
       "    <tr>\n",
       "      <th>4</th>\n",
       "      <td>V005</td>\n",
       "      <td>2023-06-29</td>\n",
       "      <td>P018</td>\n",
       "      <td>C415</td>\n",
       "      <td>Acre</td>\n",
       "      <td>Online</td>\n",
       "      <td>7</td>\n",
       "      <td>1767.23</td>\n",
       "    </tr>\n",
       "  </tbody>\n",
       "</table>\n",
       "</div>"
      ],
      "text/plain": [
       "  VendaID   DataVenda ProdutoID ClienteID          Região        Canal  \\\n",
       "0    V001  2024-04-07      P008      C013       São Paulo  Loja Física   \n",
       "1    V002  2023-02-22      P048      C053    Minas Gerais       Online   \n",
       "2    V003  2022-12-17      P002      C048       Tocantins       Online   \n",
       "3    V004  2024-06-25      P036      C102  Rio de Janeiro  Loja Física   \n",
       "4    V005  2023-06-29      P018      C415            Acre       Online   \n",
       "\n",
       "   Quantidade  Receita  \n",
       "0           4  1193.73  \n",
       "1          10  2167.42  \n",
       "2           9  3049.89  \n",
       "3           4  2301.12  \n",
       "4           7  1767.23  "
      ]
     },
     "execution_count": 2,
     "metadata": {},
     "output_type": "execute_result"
    }
   ],
   "source": [
    "# Carregando os dados\n",
    "vendas = pd.read_csv('vendas_data.csv')\n",
    "vendas.head(5)"
   ]
  },
  {
   "cell_type": "code",
   "execution_count": 6,
   "metadata": {},
   "outputs": [
    {
     "name": "stdout",
     "output_type": "stream",
     "text": [
      "Foram realizadas 1854 vendas\n"
     ]
    }
   ],
   "source": [
    "# Qual a quantidade de vendas, dos produtos e clientes\n",
    "print(f'Foram realizadas {vendas.shape[0]} vendas')"
   ]
  },
  {
   "cell_type": "code",
   "execution_count": 7,
   "metadata": {},
   "outputs": [
    {
     "data": {
      "text/plain": [
       "0"
      ]
     },
     "execution_count": 7,
     "metadata": {},
     "output_type": "execute_result"
    }
   ],
   "source": [
    "# Valores Duplicados\n",
    "sum(vendas.duplicated())"
   ]
  },
  {
   "cell_type": "code",
   "execution_count": 8,
   "metadata": {},
   "outputs": [
    {
     "data": {
      "text/plain": [
       "VendaID       1854\n",
       "DataVenda     1854\n",
       "ProdutoID     1854\n",
       "ClienteID     1854\n",
       "Região        1854\n",
       "Canal         1854\n",
       "Quantidade    1854\n",
       "Receita       1854\n",
       "dtype: int64"
      ]
     },
     "execution_count": 8,
     "metadata": {},
     "output_type": "execute_result"
    }
   ],
   "source": [
    "# Valores Nulos\n",
    "vendas.isnull().count()"
   ]
  },
  {
   "cell_type": "code",
   "execution_count": 9,
   "metadata": {},
   "outputs": [
    {
     "data": {
      "text/plain": [
       "VendaID       1854\n",
       "DataVenda     1854\n",
       "ProdutoID     1854\n",
       "ClienteID     1854\n",
       "Região        1854\n",
       "Canal         1854\n",
       "Quantidade    1854\n",
       "Receita       1854\n",
       "dtype: int64"
      ]
     },
     "execution_count": 9,
     "metadata": {},
     "output_type": "execute_result"
    }
   ],
   "source": [
    "# Valores NAN\n",
    "vendas.isna().count()"
   ]
  },
  {
   "cell_type": "code",
   "execution_count": null,
   "metadata": {},
   "outputs": [],
   "source": []
  }
 ],
 "metadata": {
  "kernelspec": {
   "display_name": "Python 3",
   "language": "python",
   "name": "python3"
  },
  "language_info": {
   "codemirror_mode": {
    "name": "ipython",
    "version": 3
   },
   "file_extension": ".py",
   "mimetype": "text/x-python",
   "name": "python",
   "nbconvert_exporter": "python",
   "pygments_lexer": "ipython3",
   "version": "3.13.0"
  }
 },
 "nbformat": 4,
 "nbformat_minor": 2
}
